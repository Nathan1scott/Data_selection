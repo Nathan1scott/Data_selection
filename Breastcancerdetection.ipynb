{
  "nbformat": 4,
  "nbformat_minor": 0,
  "metadata": {
    "colab": {
      "provenance": [],
      "authorship_tag": "ABX9TyOvZ5GcaIFbaGdKf5Kp00eg",
      "include_colab_link": true
    },
    "kernelspec": {
      "name": "python3",
      "display_name": "Python 3"
    },
    "language_info": {
      "name": "python"
    }
  },
  "cells": [
    {
      "cell_type": "markdown",
      "metadata": {
        "id": "view-in-github",
        "colab_type": "text"
      },
      "source": [
        "<a href=\"https://colab.research.google.com/github/Nathan1scott/Data_selection/blob/main/Breastcancerdetection.ipynb\" target=\"_parent\"><img src=\"https://colab.research.google.com/assets/colab-badge.svg\" alt=\"Open In Colab\"/></a>"
      ]
    },
    {
      "cell_type": "code",
      "execution_count": null,
      "metadata": {
        "id": "seNlyXll57KF"
      },
      "outputs": [],
      "source": []
    },
    {
      "cell_type": "markdown",
      "metadata": {
        "id": "a457b94c"
      },
      "source": [
        "\n",
        "Develop and test machine learning models for early and accurate breast cancer detection using the breast cancer dataset."
      ]
    },
    {
      "cell_type": "markdown",
      "metadata": {
        "id": "3b043f0c"
      },
      "source": [
        "## Load the data\n",
        "\n",
        "\n",
        "Load the breast cancer dataset into a pandas DataFrame."
      ]
    },
    {
      "cell_type": "code",
      "metadata": {
        "colab": {
          "base_uri": "https://localhost:8080/",
          "height": 967
        },
        "id": "890df1ac",
        "outputId": "9d857942-3f6f-46b4-f2d1-e88f07dd91c0"
      },
      "source": [
        "import pandas as pd\n",
        "from sklearn.datasets import load_breast_cancer\n",
        "\n",
        "# Load the dataset\n",
        "cancer = load_breast_cancer()\n",
        "\n",
        "# Create a DataFrame\n",
        "df = pd.DataFrame(data=cancer.data, columns=cancer.feature_names)\n",
        "df['target'] = cancer.target\n",
        "\n",
        "# Display the first few rows\n",
        "display(df.head())\n",
        "\n",
        "# Display information about the DataFrame\n",
        "display(df.info())"
      ],
      "execution_count": 1,
      "outputs": [
        {
          "output_type": "display_data",
          "data": {
            "text/plain": [
              "   mean radius  mean texture  mean perimeter  mean area  mean smoothness  \\\n",
              "0        17.99         10.38          122.80     1001.0          0.11840   \n",
              "1        20.57         17.77          132.90     1326.0          0.08474   \n",
              "2        19.69         21.25          130.00     1203.0          0.10960   \n",
              "3        11.42         20.38           77.58      386.1          0.14250   \n",
              "4        20.29         14.34          135.10     1297.0          0.10030   \n",
              "\n",
              "   mean compactness  mean concavity  mean concave points  mean symmetry  \\\n",
              "0           0.27760          0.3001              0.14710         0.2419   \n",
              "1           0.07864          0.0869              0.07017         0.1812   \n",
              "2           0.15990          0.1974              0.12790         0.2069   \n",
              "3           0.28390          0.2414              0.10520         0.2597   \n",
              "4           0.13280          0.1980              0.10430         0.1809   \n",
              "\n",
              "   mean fractal dimension  ...  worst texture  worst perimeter  worst area  \\\n",
              "0                 0.07871  ...          17.33           184.60      2019.0   \n",
              "1                 0.05667  ...          23.41           158.80      1956.0   \n",
              "2                 0.05999  ...          25.53           152.50      1709.0   \n",
              "3                 0.09744  ...          26.50            98.87       567.7   \n",
              "4                 0.05883  ...          16.67           152.20      1575.0   \n",
              "\n",
              "   worst smoothness  worst compactness  worst concavity  worst concave points  \\\n",
              "0            0.1622             0.6656           0.7119                0.2654   \n",
              "1            0.1238             0.1866           0.2416                0.1860   \n",
              "2            0.1444             0.4245           0.4504                0.2430   \n",
              "3            0.2098             0.8663           0.6869                0.2575   \n",
              "4            0.1374             0.2050           0.4000                0.1625   \n",
              "\n",
              "   worst symmetry  worst fractal dimension  target  \n",
              "0          0.4601                  0.11890       0  \n",
              "1          0.2750                  0.08902       0  \n",
              "2          0.3613                  0.08758       0  \n",
              "3          0.6638                  0.17300       0  \n",
              "4          0.2364                  0.07678       0  \n",
              "\n",
              "[5 rows x 31 columns]"
            ],
            "text/html": [
              "\n",
              "  <div id=\"df-271544c7-939c-4e40-b639-a7c5e051fa96\" class=\"colab-df-container\">\n",
              "    <div>\n",
              "<style scoped>\n",
              "    .dataframe tbody tr th:only-of-type {\n",
              "        vertical-align: middle;\n",
              "    }\n",
              "\n",
              "    .dataframe tbody tr th {\n",
              "        vertical-align: top;\n",
              "    }\n",
              "\n",
              "    .dataframe thead th {\n",
              "        text-align: right;\n",
              "    }\n",
              "</style>\n",
              "<table border=\"1\" class=\"dataframe\">\n",
              "  <thead>\n",
              "    <tr style=\"text-align: right;\">\n",
              "      <th></th>\n",
              "      <th>mean radius</th>\n",
              "      <th>mean texture</th>\n",
              "      <th>mean perimeter</th>\n",
              "      <th>mean area</th>\n",
              "      <th>mean smoothness</th>\n",
              "      <th>mean compactness</th>\n",
              "      <th>mean concavity</th>\n",
              "      <th>mean concave points</th>\n",
              "      <th>mean symmetry</th>\n",
              "      <th>mean fractal dimension</th>\n",
              "      <th>...</th>\n",
              "      <th>worst texture</th>\n",
              "      <th>worst perimeter</th>\n",
              "      <th>worst area</th>\n",
              "      <th>worst smoothness</th>\n",
              "      <th>worst compactness</th>\n",
              "      <th>worst concavity</th>\n",
              "      <th>worst concave points</th>\n",
              "      <th>worst symmetry</th>\n",
              "      <th>worst fractal dimension</th>\n",
              "      <th>target</th>\n",
              "    </tr>\n",
              "  </thead>\n",
              "  <tbody>\n",
              "    <tr>\n",
              "      <th>0</th>\n",
              "      <td>17.99</td>\n",
              "      <td>10.38</td>\n",
              "      <td>122.80</td>\n",
              "      <td>1001.0</td>\n",
              "      <td>0.11840</td>\n",
              "      <td>0.27760</td>\n",
              "      <td>0.3001</td>\n",
              "      <td>0.14710</td>\n",
              "      <td>0.2419</td>\n",
              "      <td>0.07871</td>\n",
              "      <td>...</td>\n",
              "      <td>17.33</td>\n",
              "      <td>184.60</td>\n",
              "      <td>2019.0</td>\n",
              "      <td>0.1622</td>\n",
              "      <td>0.6656</td>\n",
              "      <td>0.7119</td>\n",
              "      <td>0.2654</td>\n",
              "      <td>0.4601</td>\n",
              "      <td>0.11890</td>\n",
              "      <td>0</td>\n",
              "    </tr>\n",
              "    <tr>\n",
              "      <th>1</th>\n",
              "      <td>20.57</td>\n",
              "      <td>17.77</td>\n",
              "      <td>132.90</td>\n",
              "      <td>1326.0</td>\n",
              "      <td>0.08474</td>\n",
              "      <td>0.07864</td>\n",
              "      <td>0.0869</td>\n",
              "      <td>0.07017</td>\n",
              "      <td>0.1812</td>\n",
              "      <td>0.05667</td>\n",
              "      <td>...</td>\n",
              "      <td>23.41</td>\n",
              "      <td>158.80</td>\n",
              "      <td>1956.0</td>\n",
              "      <td>0.1238</td>\n",
              "      <td>0.1866</td>\n",
              "      <td>0.2416</td>\n",
              "      <td>0.1860</td>\n",
              "      <td>0.2750</td>\n",
              "      <td>0.08902</td>\n",
              "      <td>0</td>\n",
              "    </tr>\n",
              "    <tr>\n",
              "      <th>2</th>\n",
              "      <td>19.69</td>\n",
              "      <td>21.25</td>\n",
              "      <td>130.00</td>\n",
              "      <td>1203.0</td>\n",
              "      <td>0.10960</td>\n",
              "      <td>0.15990</td>\n",
              "      <td>0.1974</td>\n",
              "      <td>0.12790</td>\n",
              "      <td>0.2069</td>\n",
              "      <td>0.05999</td>\n",
              "      <td>...</td>\n",
              "      <td>25.53</td>\n",
              "      <td>152.50</td>\n",
              "      <td>1709.0</td>\n",
              "      <td>0.1444</td>\n",
              "      <td>0.4245</td>\n",
              "      <td>0.4504</td>\n",
              "      <td>0.2430</td>\n",
              "      <td>0.3613</td>\n",
              "      <td>0.08758</td>\n",
              "      <td>0</td>\n",
              "    </tr>\n",
              "    <tr>\n",
              "      <th>3</th>\n",
              "      <td>11.42</td>\n",
              "      <td>20.38</td>\n",
              "      <td>77.58</td>\n",
              "      <td>386.1</td>\n",
              "      <td>0.14250</td>\n",
              "      <td>0.28390</td>\n",
              "      <td>0.2414</td>\n",
              "      <td>0.10520</td>\n",
              "      <td>0.2597</td>\n",
              "      <td>0.09744</td>\n",
              "      <td>...</td>\n",
              "      <td>26.50</td>\n",
              "      <td>98.87</td>\n",
              "      <td>567.7</td>\n",
              "      <td>0.2098</td>\n",
              "      <td>0.8663</td>\n",
              "      <td>0.6869</td>\n",
              "      <td>0.2575</td>\n",
              "      <td>0.6638</td>\n",
              "      <td>0.17300</td>\n",
              "      <td>0</td>\n",
              "    </tr>\n",
              "    <tr>\n",
              "      <th>4</th>\n",
              "      <td>20.29</td>\n",
              "      <td>14.34</td>\n",
              "      <td>135.10</td>\n",
              "      <td>1297.0</td>\n",
              "      <td>0.10030</td>\n",
              "      <td>0.13280</td>\n",
              "      <td>0.1980</td>\n",
              "      <td>0.10430</td>\n",
              "      <td>0.1809</td>\n",
              "      <td>0.05883</td>\n",
              "      <td>...</td>\n",
              "      <td>16.67</td>\n",
              "      <td>152.20</td>\n",
              "      <td>1575.0</td>\n",
              "      <td>0.1374</td>\n",
              "      <td>0.2050</td>\n",
              "      <td>0.4000</td>\n",
              "      <td>0.1625</td>\n",
              "      <td>0.2364</td>\n",
              "      <td>0.07678</td>\n",
              "      <td>0</td>\n",
              "    </tr>\n",
              "  </tbody>\n",
              "</table>\n",
              "<p>5 rows × 31 columns</p>\n",
              "</div>\n",
              "    <div class=\"colab-df-buttons\">\n",
              "\n",
              "  <div class=\"colab-df-container\">\n",
              "    <button class=\"colab-df-convert\" onclick=\"convertToInteractive('df-271544c7-939c-4e40-b639-a7c5e051fa96')\"\n",
              "            title=\"Convert this dataframe to an interactive table.\"\n",
              "            style=\"display:none;\">\n",
              "\n",
              "  <svg xmlns=\"http://www.w3.org/2000/svg\" height=\"24px\" viewBox=\"0 -960 960 960\">\n",
              "    <path d=\"M120-120v-720h720v720H120Zm60-500h600v-160H180v160Zm220 220h160v-160H400v160Zm0 220h160v-160H400v160ZM180-400h160v-160H180v160Zm440 0h160v-160H620v160ZM180-180h160v-160H180v160Zm440 0h160v-160H620v160Z\"/>\n",
              "  </svg>\n",
              "    </button>\n",
              "\n",
              "  <style>\n",
              "    .colab-df-container {\n",
              "      display:flex;\n",
              "      gap: 12px;\n",
              "    }\n",
              "\n",
              "    .colab-df-convert {\n",
              "      background-color: #E8F0FE;\n",
              "      border: none;\n",
              "      border-radius: 50%;\n",
              "      cursor: pointer;\n",
              "      display: none;\n",
              "      fill: #1967D2;\n",
              "      height: 32px;\n",
              "      padding: 0 0 0 0;\n",
              "      width: 32px;\n",
              "    }\n",
              "\n",
              "    .colab-df-convert:hover {\n",
              "      background-color: #E2EBFA;\n",
              "      box-shadow: 0px 1px 2px rgba(60, 64, 67, 0.3), 0px 1px 3px 1px rgba(60, 64, 67, 0.15);\n",
              "      fill: #174EA6;\n",
              "    }\n",
              "\n",
              "    .colab-df-buttons div {\n",
              "      margin-bottom: 4px;\n",
              "    }\n",
              "\n",
              "    [theme=dark] .colab-df-convert {\n",
              "      background-color: #3B4455;\n",
              "      fill: #D2E3FC;\n",
              "    }\n",
              "\n",
              "    [theme=dark] .colab-df-convert:hover {\n",
              "      background-color: #434B5C;\n",
              "      box-shadow: 0px 1px 3px 1px rgba(0, 0, 0, 0.15);\n",
              "      filter: drop-shadow(0px 1px 2px rgba(0, 0, 0, 0.3));\n",
              "      fill: #FFFFFF;\n",
              "    }\n",
              "  </style>\n",
              "\n",
              "    <script>\n",
              "      const buttonEl =\n",
              "        document.querySelector('#df-271544c7-939c-4e40-b639-a7c5e051fa96 button.colab-df-convert');\n",
              "      buttonEl.style.display =\n",
              "        google.colab.kernel.accessAllowed ? 'block' : 'none';\n",
              "\n",
              "      async function convertToInteractive(key) {\n",
              "        const element = document.querySelector('#df-271544c7-939c-4e40-b639-a7c5e051fa96');\n",
              "        const dataTable =\n",
              "          await google.colab.kernel.invokeFunction('convertToInteractive',\n",
              "                                                    [key], {});\n",
              "        if (!dataTable) return;\n",
              "\n",
              "        const docLinkHtml = 'Like what you see? Visit the ' +\n",
              "          '<a target=\"_blank\" href=https://colab.research.google.com/notebooks/data_table.ipynb>data table notebook</a>'\n",
              "          + ' to learn more about interactive tables.';\n",
              "        element.innerHTML = '';\n",
              "        dataTable['output_type'] = 'display_data';\n",
              "        await google.colab.output.renderOutput(dataTable, element);\n",
              "        const docLink = document.createElement('div');\n",
              "        docLink.innerHTML = docLinkHtml;\n",
              "        element.appendChild(docLink);\n",
              "      }\n",
              "    </script>\n",
              "  </div>\n",
              "\n",
              "\n",
              "    <div id=\"df-8c40374c-c6e6-4ffe-a3d4-085290514fa7\">\n",
              "      <button class=\"colab-df-quickchart\" onclick=\"quickchart('df-8c40374c-c6e6-4ffe-a3d4-085290514fa7')\"\n",
              "                title=\"Suggest charts\"\n",
              "                style=\"display:none;\">\n",
              "\n",
              "<svg xmlns=\"http://www.w3.org/2000/svg\" height=\"24px\"viewBox=\"0 0 24 24\"\n",
              "     width=\"24px\">\n",
              "    <g>\n",
              "        <path d=\"M19 3H5c-1.1 0-2 .9-2 2v14c0 1.1.9 2 2 2h14c1.1 0 2-.9 2-2V5c0-1.1-.9-2-2-2zM9 17H7v-7h2v7zm4 0h-2V7h2v10zm4 0h-2v-4h2v4z\"/>\n",
              "    </g>\n",
              "</svg>\n",
              "      </button>\n",
              "\n",
              "<style>\n",
              "  .colab-df-quickchart {\n",
              "      --bg-color: #E8F0FE;\n",
              "      --fill-color: #1967D2;\n",
              "      --hover-bg-color: #E2EBFA;\n",
              "      --hover-fill-color: #174EA6;\n",
              "      --disabled-fill-color: #AAA;\n",
              "      --disabled-bg-color: #DDD;\n",
              "  }\n",
              "\n",
              "  [theme=dark] .colab-df-quickchart {\n",
              "      --bg-color: #3B4455;\n",
              "      --fill-color: #D2E3FC;\n",
              "      --hover-bg-color: #434B5C;\n",
              "      --hover-fill-color: #FFFFFF;\n",
              "      --disabled-bg-color: #3B4455;\n",
              "      --disabled-fill-color: #666;\n",
              "  }\n",
              "\n",
              "  .colab-df-quickchart {\n",
              "    background-color: var(--bg-color);\n",
              "    border: none;\n",
              "    border-radius: 50%;\n",
              "    cursor: pointer;\n",
              "    display: none;\n",
              "    fill: var(--fill-color);\n",
              "    height: 32px;\n",
              "    padding: 0;\n",
              "    width: 32px;\n",
              "  }\n",
              "\n",
              "  .colab-df-quickchart:hover {\n",
              "    background-color: var(--hover-bg-color);\n",
              "    box-shadow: 0 1px 2px rgba(60, 64, 67, 0.3), 0 1px 3px 1px rgba(60, 64, 67, 0.15);\n",
              "    fill: var(--button-hover-fill-color);\n",
              "  }\n",
              "\n",
              "  .colab-df-quickchart-complete:disabled,\n",
              "  .colab-df-quickchart-complete:disabled:hover {\n",
              "    background-color: var(--disabled-bg-color);\n",
              "    fill: var(--disabled-fill-color);\n",
              "    box-shadow: none;\n",
              "  }\n",
              "\n",
              "  .colab-df-spinner {\n",
              "    border: 2px solid var(--fill-color);\n",
              "    border-color: transparent;\n",
              "    border-bottom-color: var(--fill-color);\n",
              "    animation:\n",
              "      spin 1s steps(1) infinite;\n",
              "  }\n",
              "\n",
              "  @keyframes spin {\n",
              "    0% {\n",
              "      border-color: transparent;\n",
              "      border-bottom-color: var(--fill-color);\n",
              "      border-left-color: var(--fill-color);\n",
              "    }\n",
              "    20% {\n",
              "      border-color: transparent;\n",
              "      border-left-color: var(--fill-color);\n",
              "      border-top-color: var(--fill-color);\n",
              "    }\n",
              "    30% {\n",
              "      border-color: transparent;\n",
              "      border-left-color: var(--fill-color);\n",
              "      border-top-color: var(--fill-color);\n",
              "      border-right-color: var(--fill-color);\n",
              "    }\n",
              "    40% {\n",
              "      border-color: transparent;\n",
              "      border-right-color: var(--fill-color);\n",
              "      border-top-color: var(--fill-color);\n",
              "    }\n",
              "    60% {\n",
              "      border-color: transparent;\n",
              "      border-right-color: var(--fill-color);\n",
              "    }\n",
              "    80% {\n",
              "      border-color: transparent;\n",
              "      border-right-color: var(--fill-color);\n",
              "      border-bottom-color: var(--fill-color);\n",
              "    }\n",
              "    90% {\n",
              "      border-color: transparent;\n",
              "      border-bottom-color: var(--fill-color);\n",
              "    }\n",
              "  }\n",
              "</style>\n",
              "\n",
              "      <script>\n",
              "        async function quickchart(key) {\n",
              "          const quickchartButtonEl =\n",
              "            document.querySelector('#' + key + ' button');\n",
              "          quickchartButtonEl.disabled = true;  // To prevent multiple clicks.\n",
              "          quickchartButtonEl.classList.add('colab-df-spinner');\n",
              "          try {\n",
              "            const charts = await google.colab.kernel.invokeFunction(\n",
              "                'suggestCharts', [key], {});\n",
              "          } catch (error) {\n",
              "            console.error('Error during call to suggestCharts:', error);\n",
              "          }\n",
              "          quickchartButtonEl.classList.remove('colab-df-spinner');\n",
              "          quickchartButtonEl.classList.add('colab-df-quickchart-complete');\n",
              "        }\n",
              "        (() => {\n",
              "          let quickchartButtonEl =\n",
              "            document.querySelector('#df-8c40374c-c6e6-4ffe-a3d4-085290514fa7 button');\n",
              "          quickchartButtonEl.style.display =\n",
              "            google.colab.kernel.accessAllowed ? 'block' : 'none';\n",
              "        })();\n",
              "      </script>\n",
              "    </div>\n",
              "\n",
              "    </div>\n",
              "  </div>\n"
            ],
            "application/vnd.google.colaboratory.intrinsic+json": {
              "type": "dataframe"
            }
          },
          "metadata": {}
        },
        {
          "output_type": "stream",
          "name": "stdout",
          "text": [
            "<class 'pandas.core.frame.DataFrame'>\n",
            "RangeIndex: 569 entries, 0 to 568\n",
            "Data columns (total 31 columns):\n",
            " #   Column                   Non-Null Count  Dtype  \n",
            "---  ------                   --------------  -----  \n",
            " 0   mean radius              569 non-null    float64\n",
            " 1   mean texture             569 non-null    float64\n",
            " 2   mean perimeter           569 non-null    float64\n",
            " 3   mean area                569 non-null    float64\n",
            " 4   mean smoothness          569 non-null    float64\n",
            " 5   mean compactness         569 non-null    float64\n",
            " 6   mean concavity           569 non-null    float64\n",
            " 7   mean concave points      569 non-null    float64\n",
            " 8   mean symmetry            569 non-null    float64\n",
            " 9   mean fractal dimension   569 non-null    float64\n",
            " 10  radius error             569 non-null    float64\n",
            " 11  texture error            569 non-null    float64\n",
            " 12  perimeter error          569 non-null    float64\n",
            " 13  area error               569 non-null    float64\n",
            " 14  smoothness error         569 non-null    float64\n",
            " 15  compactness error        569 non-null    float64\n",
            " 16  concavity error          569 non-null    float64\n",
            " 17  concave points error     569 non-null    float64\n",
            " 18  symmetry error           569 non-null    float64\n",
            " 19  fractal dimension error  569 non-null    float64\n",
            " 20  worst radius             569 non-null    float64\n",
            " 21  worst texture            569 non-null    float64\n",
            " 22  worst perimeter          569 non-null    float64\n",
            " 23  worst area               569 non-null    float64\n",
            " 24  worst smoothness         569 non-null    float64\n",
            " 25  worst compactness        569 non-null    float64\n",
            " 26  worst concavity          569 non-null    float64\n",
            " 27  worst concave points     569 non-null    float64\n",
            " 28  worst symmetry           569 non-null    float64\n",
            " 29  worst fractal dimension  569 non-null    float64\n",
            " 30  target                   569 non-null    int64  \n",
            "dtypes: float64(30), int64(1)\n",
            "memory usage: 137.9 KB\n"
          ]
        },
        {
          "output_type": "display_data",
          "data": {
            "text/plain": [
              "None"
            ]
          },
          "metadata": {}
        }
      ]
    },
    {
      "cell_type": "markdown",
      "metadata": {
        "id": "3df89929"
      },
      "source": [
        "## Preprocess the data\n",
        "\n",
        "\n",
        "Handle missing values, encode categorical features, and scale numerical features as needed."
      ]
    },
    {
      "cell_type": "code",
      "metadata": {
        "colab": {
          "base_uri": "https://localhost:8080/"
        },
        "id": "fe24874a",
        "outputId": "5bd15063-01d0-4951-a7e6-f7a632c93417"
      },
      "source": [
        "# Check for missing values\n",
        "print(df.isnull().sum())\n",
        "\n",
        "# Separate features (X) and target (y)\n",
        "X = df.drop('target', axis=1)\n",
        "y = df['target']\n",
        "\n",
        "# Scale numerical features\n",
        "from sklearn.preprocessing import StandardScaler\n",
        "scaler = StandardScaler()\n",
        "X_scaled = scaler.fit_transform(X)"
      ],
      "execution_count": 2,
      "outputs": [
        {
          "output_type": "stream",
          "name": "stdout",
          "text": [
            "mean radius                0\n",
            "mean texture               0\n",
            "mean perimeter             0\n",
            "mean area                  0\n",
            "mean smoothness            0\n",
            "mean compactness           0\n",
            "mean concavity             0\n",
            "mean concave points        0\n",
            "mean symmetry              0\n",
            "mean fractal dimension     0\n",
            "radius error               0\n",
            "texture error              0\n",
            "perimeter error            0\n",
            "area error                 0\n",
            "smoothness error           0\n",
            "compactness error          0\n",
            "concavity error            0\n",
            "concave points error       0\n",
            "symmetry error             0\n",
            "fractal dimension error    0\n",
            "worst radius               0\n",
            "worst texture              0\n",
            "worst perimeter            0\n",
            "worst area                 0\n",
            "worst smoothness           0\n",
            "worst compactness          0\n",
            "worst concavity            0\n",
            "worst concave points       0\n",
            "worst symmetry             0\n",
            "worst fractal dimension    0\n",
            "target                     0\n",
            "dtype: int64\n"
          ]
        }
      ]
    },
    {
      "cell_type": "markdown",
      "metadata": {
        "id": "aadc46f0"
      },
      "source": [
        "## Split the data\n",
        "\n",
        "\n",
        "Split the data into training, validation, and test sets."
      ]
    },
    {
      "cell_type": "markdown",
      "metadata": {
        "id": "8bb9a4a8"
      },
      "source": [
        "**Reasoning**:\n",
        "Split the scaled data into training, validation, and test sets and verify their shapes.\n",
        "\n"
      ]
    },
    {
      "cell_type": "code",
      "metadata": {
        "colab": {
          "base_uri": "https://localhost:8080/"
        },
        "id": "cfe13a5a",
        "outputId": "ed7158ef-ff80-4070-9ade-45b495640f5a"
      },
      "source": [
        "from sklearn.model_selection import train_test_split\n",
        "\n",
        "# Split the data into training and temporary sets\n",
        "X_train, X_temp, y_train, y_temp = train_test_split(X_scaled, y, test_size=0.3, random_state=42)\n",
        "\n",
        "# Split the temporary set into validation and test sets\n",
        "X_val, X_test, y_val, y_test = train_test_split(X_temp, y_temp, test_size=0.5, random_state=42)\n",
        "\n",
        "# Verify the shapes of the resulting sets\n",
        "print(\"Shape of X_train:\", X_train.shape)\n",
        "print(\"Shape of y_train:\", y_train.shape)\n",
        "print(\"Shape of X_val:\", X_val.shape)\n",
        "print(\"Shape of y_val:\", y_val.shape)\n",
        "print(\"Shape of X_test:\", X_test.shape)\n",
        "print(\"Shape of y_test:\", y_test.shape)"
      ],
      "execution_count": 3,
      "outputs": [
        {
          "output_type": "stream",
          "name": "stdout",
          "text": [
            "Shape of X_train: (398, 30)\n",
            "Shape of y_train: (398,)\n",
            "Shape of X_val: (85, 30)\n",
            "Shape of y_val: (85,)\n",
            "Shape of X_test: (86, 30)\n",
            "Shape of y_test: (86,)\n"
          ]
        }
      ]
    },
    {
      "cell_type": "markdown",
      "metadata": {
        "id": "0b1c41a2"
      },
      "source": [
        "## Select and train models\n",
        "\n",
        "\n",
        "Choose the appropriate machine learning models (logistic regression, SVM, neural networks) and train them on the training data."
      ]
    },
    {
      "cell_type": "code",
      "metadata": {
        "colab": {
          "base_uri": "https://localhost:8080/"
        },
        "id": "55f461a5",
        "outputId": "f3618cfe-63c7-455b-e576-8b34fa379b6d"
      },
      "source": [
        "from sklearn.linear_model import LogisticRegression\n",
        "from sklearn.svm import SVC\n",
        "from sklearn.neural_network import MLPClassifier\n",
        "\n",
        "# Instantiate each model with default parameters\n",
        "lr_model = LogisticRegression()\n",
        "svm_model = SVC()\n",
        "nn_model = MLPClassifier(max_iter=1000) # Increase max_iter for convergence\n",
        "\n",
        "# Train each model\n",
        "lr_model.fit(X_train, y_train)\n",
        "svm_model.fit(X_train, y_train)\n",
        "nn_model.fit(X_train, y_train)\n",
        "\n",
        "print(\"Models trained successfully.\")"
      ],
      "execution_count": 4,
      "outputs": [
        {
          "output_type": "stream",
          "name": "stdout",
          "text": [
            "Models trained successfully.\n"
          ]
        }
      ]
    },
    {
      "cell_type": "markdown",
      "metadata": {
        "id": "a17d7c97"
      },
      "source": [
        "## Evaluate models\n",
        "\n",
        "\n",
        "Evaluate the trained models on the validation set using appropriate metrics (e.g., accuracy, precision, recall, F1-score, AUC)."
      ]
    },
    {
      "cell_type": "code",
      "metadata": {
        "colab": {
          "base_uri": "https://localhost:8080/"
        },
        "id": "377fbd0a",
        "outputId": "bb76f058-8302-4f5d-900c-6782d108da09"
      },
      "source": [
        "from sklearn.metrics import accuracy_score, precision_score, recall_score, f1_score, roc_auc_score\n",
        "\n",
        "# Evaluate Logistic Regression\n",
        "lr_pred = lr_model.predict(X_val)\n",
        "lr_accuracy = accuracy_score(y_val, lr_pred)\n",
        "lr_precision = precision_score(y_val, lr_pred)\n",
        "lr_recall = recall_score(y_val, lr_pred)\n",
        "lr_f1 = f1_score(y_val, lr_pred)\n",
        "lr_auc = roc_auc_score(y_val, lr_model.predict_proba(X_val)[:, 1])\n",
        "\n",
        "print(\"Logistic Regression Metrics:\")\n",
        "print(f\"  Accuracy: {lr_accuracy:.4f}\")\n",
        "print(f\"  Precision: {lr_precision:.4f}\")\n",
        "print(f\"  Recall: {lr_recall:.4f}\")\n",
        "print(f\"  F1-score: {lr_f1:.4f}\")\n",
        "print(f\"  AUC: {lr_auc:.4f}\")\n",
        "print(\"-\" * 20)\n",
        "\n",
        "# Evaluate SVM\n",
        "# Set probability=True when instantiating SVC if you need AUC\n",
        "svm_model_prob = SVC(probability=True)\n",
        "svm_model_prob.fit(X_train, y_train)\n",
        "\n",
        "svm_pred = svm_model_prob.predict(X_val)\n",
        "svm_accuracy = accuracy_score(y_val, svm_pred)\n",
        "svm_precision = precision_score(y_val, svm_pred)\n",
        "svm_recall = recall_score(y_val, svm_pred)\n",
        "svm_f1 = f1_score(y_val, svm_pred)\n",
        "svm_auc = roc_auc_score(y_val, svm_model_prob.predict_proba(X_val)[:, 1])\n",
        "\n",
        "\n",
        "print(\"SVM Metrics:\")\n",
        "print(f\"  Accuracy: {svm_accuracy:.4f}\")\n",
        "print(f\"  Precision: {svm_precision:.4f}\")\n",
        "print(f\"  Recall: {svm_recall:.4f}\")\n",
        "print(f\"  F1-score: {svm_f1:.4f}\")\n",
        "print(f\"  AUC: {svm_auc:.4f}\")\n",
        "print(\"-\" * 20)\n",
        "\n",
        "# Evaluate Neural Network\n",
        "nn_pred = nn_model.predict(X_val)\n",
        "nn_accuracy = accuracy_score(y_val, nn_pred)\n",
        "nn_precision = precision_score(y_val, nn_pred)\n",
        "nn_recall = recall_score(y_val, nn_pred)\n",
        "nn_f1 = f1_score(y_val, nn_pred)\n",
        "nn_auc = roc_auc_score(y_val, nn_model.predict_proba(X_val)[:, 1])\n",
        "\n",
        "\n",
        "print(\"Neural Network Metrics:\")\n",
        "print(f\"  Accuracy: {nn_accuracy:.4f}\")\n",
        "print(f\"  Precision: {nn_precision:.4f}\")\n",
        "print(f\"  Recall: {nn_recall:.4f}\")\n",
        "print(f\"  F1-score: {nn_f1:.4f}\")\n",
        "print(f\"  AUC: {nn_auc:.4f}\")\n",
        "print(\"-\" * 20)"
      ],
      "execution_count": 5,
      "outputs": [
        {
          "output_type": "stream",
          "name": "stdout",
          "text": [
            "Logistic Regression Metrics:\n",
            "  Accuracy: 0.9882\n",
            "  Precision: 0.9796\n",
            "  Recall: 1.0000\n",
            "  F1-score: 0.9897\n",
            "  AUC: 0.9977\n",
            "--------------------\n",
            "SVM Metrics:\n",
            "  Accuracy: 0.9529\n",
            "  Precision: 0.9583\n",
            "  Recall: 0.9583\n",
            "  F1-score: 0.9583\n",
            "  AUC: 0.9944\n",
            "--------------------\n",
            "Neural Network Metrics:\n",
            "  Accuracy: 0.9647\n",
            "  Precision: 0.9592\n",
            "  Recall: 0.9792\n",
            "  F1-score: 0.9691\n",
            "  AUC: 0.9955\n",
            "--------------------\n"
          ]
        }
      ]
    },
    {
      "cell_type": "markdown",
      "metadata": {
        "id": "f3fad598"
      },
      "source": [
        "## Tune hyperparameters\n",
        "\n",
        "\n",
        "Optimize model hyperparameters using techniques like cross-validation."
      ]
    },
    {
      "cell_type": "code",
      "metadata": {
        "id": "7699b771"
      },
      "source": [
        "from sklearn.model_selection import GridSearchCV"
      ],
      "execution_count": 6,
      "outputs": []
    },
    {
      "cell_type": "markdown",
      "metadata": {
        "id": "67fbdf07"
      },
      "source": [
        "\n",
        "Define parameter grids for each model and perform GridSearchCV for Logistic Regression."
      ]
    },
    {
      "cell_type": "code",
      "metadata": {
        "colab": {
          "base_uri": "https://localhost:8080/"
        },
        "id": "073b3315",
        "outputId": "052f8683-5cb2-4a74-be0d-a53b261d9ea7"
      },
      "source": [
        "# Define parameter grid for Logistic Regression\n",
        "lr_param_grid = {\n",
        "    'C': [0.001, 0.01, 0.1, 1, 10, 100],\n",
        "    'penalty': ['l1', 'l2']\n",
        "}\n",
        "\n",
        "# Initialize GridSearchCV for Logistic Regression\n",
        "# Using f1 as the scoring metric\n",
        "lr_grid_search = GridSearchCV(LogisticRegression(solver='liblinear'), lr_param_grid, cv=5, scoring='f1')\n",
        "\n",
        "# Fit GridSearchCV to the training data\n",
        "lr_grid_search.fit(X_train, y_train)\n",
        "\n",
        "# Print the best parameters and best score for Logistic Regression\n",
        "print(\"Best parameters for Logistic Regression:\", lr_grid_search.best_params_)\n",
        "print(\"Best F1-score for Logistic Regression:\", lr_grid_search.best_score_)\n",
        "\n",
        "# Store the best estimator\n",
        "best_lr_model = lr_grid_search.best_estimator_"
      ],
      "execution_count": 7,
      "outputs": [
        {
          "output_type": "stream",
          "name": "stdout",
          "text": [
            "Best parameters for Logistic Regression: {'C': 0.1, 'penalty': 'l2'}\n",
            "Best F1-score for Logistic Regression: 0.9820950320722348\n"
          ]
        }
      ]
    },
    {
      "cell_type": "markdown",
      "metadata": {
        "id": "3b649f23"
      },
      "source": [
        "\n",
        "Define parameter grid for SVM and perform GridSearchCV."
      ]
    },
    {
      "cell_type": "code",
      "metadata": {
        "colab": {
          "base_uri": "https://localhost:8080/"
        },
        "id": "fed9ad57",
        "outputId": "403b2949-81aa-47f3-bdeb-543e180542f5"
      },
      "source": [
        "# Define parameter grid for SVM\n",
        "svm_param_grid = {\n",
        "    'C': [0.1, 1, 10, 100],\n",
        "    'gamma': ['scale', 'auto'],\n",
        "    'kernel': ['linear', 'rbf']\n",
        "}\n",
        "\n",
        "# Initialize GridSearchCV for SVM\n",
        "# Using f1 as the scoring metric\n",
        "svm_grid_search = GridSearchCV(SVC(), svm_param_grid, cv=5, scoring='f1')\n",
        "\n",
        "# Fit GridSearchCV to the training data\n",
        "svm_grid_search.fit(X_train, y_train)\n",
        "\n",
        "# Print the best parameters and best score for SVM\n",
        "print(\"Best parameters for SVM:\", svm_grid_search.best_params_)\n",
        "print(\"Best F1-score for SVM:\", svm_grid_search.best_score_)\n",
        "\n",
        "# Store the best estimator\n",
        "best_svm_model = svm_grid_search.best_estimator_"
      ],
      "execution_count": 8,
      "outputs": [
        {
          "output_type": "stream",
          "name": "stdout",
          "text": [
            "Best parameters for SVM: {'C': 1, 'gamma': 'scale', 'kernel': 'linear'}\n",
            "Best F1-score for SVM: 0.980156862745098\n"
          ]
        }
      ]
    },
    {
      "cell_type": "markdown",
      "metadata": {
        "id": "660f6aec"
      },
      "source": [
        "\n",
        "Define parameter grid for the Neural Network and perform GridSearchCV."
      ]
    },
    {
      "cell_type": "code",
      "metadata": {
        "colab": {
          "base_uri": "https://localhost:8080/"
        },
        "id": "ca5e694b",
        "outputId": "6bae1295-5219-4f98-ba3e-1509ec5cde9d"
      },
      "source": [
        "# Define parameter grid for Neural Network\n",
        "nn_param_grid = {\n",
        "    'hidden_layer_sizes': [(50,), (100,), (50, 50), (100, 50)],\n",
        "    'activation': ['tanh', 'relu'],\n",
        "    'solver': ['adam', 'sgd'],\n",
        "    'alpha': [0.0001, 0.001, 0.01],\n",
        "    'learning_rate': ['constant', 'adaptive']\n",
        "}\n",
        "\n",
        "# Initialize GridSearchCV for Neural Network\n",
        "# Using f1 as the scoring metric\n",
        "nn_grid_search = GridSearchCV(MLPClassifier(max_iter=1000), nn_param_grid, cv=3, scoring='f1')\n",
        "\n",
        "# Fit GridSearchCV to the training data\n",
        "nn_grid_search.fit(X_train, y_train)\n",
        "\n",
        "# Print the best parameters and best score for Neural Network\n",
        "print(\"Best parameters for Neural Network:\", nn_grid_search.best_params_)\n",
        "print(\"Best F1-score for Neural Network:\", nn_grid_search.best_score_)\n",
        "\n",
        "# Store the best estimator\n",
        "best_nn_model = nn_grid_search.best_estimator_"
      ],
      "execution_count": 9,
      "outputs": [
        {
          "output_type": "stream",
          "name": "stdout",
          "text": [
            "Best parameters for Neural Network: {'activation': 'tanh', 'alpha': 0.001, 'hidden_layer_sizes': (100, 50), 'learning_rate': 'adaptive', 'solver': 'sgd'}\n",
            "Best F1-score for Neural Network: 0.9860754681113963\n"
          ]
        }
      ]
    },
    {
      "cell_type": "markdown",
      "metadata": {
        "id": "6dcbd735"
      },
      "source": [
        "\n",
        "Evaluate the best performing model (Neural Network) on the test set using accuracy, precision, recall, F1-score, and AUC."
      ]
    },
    {
      "cell_type": "code",
      "metadata": {
        "colab": {
          "base_uri": "https://localhost:8080/"
        },
        "id": "bdbff3d7",
        "outputId": "5569bc78-b7df-47d6-b2a6-dc126a201cab"
      },
      "source": [
        "from sklearn.metrics import accuracy_score, precision_score, recall_score, f1_score, roc_auc_score\n",
        "\n",
        "# Select the best performing model based on the highest best F1-score from hyperparameter tuning\n",
        "# Based on previous output, the Neural Network had the highest best F1-score (0.9861)\n",
        "best_model = best_nn_model\n",
        "\n",
        "# Make predictions on the test set\n",
        "y_pred_test = best_model.predict(X_test)\n",
        "\n",
        "# Calculate evaluation metrics on the test set\n",
        "test_accuracy = accuracy_score(y_test, y_pred_test)\n",
        "test_precision = precision_score(y_test, y_pred_test)\n",
        "test_recall = recall_score(y_test, y_pred_test)\n",
        "test_f1 = f1_score(y_test, y_pred_test)\n",
        "\n",
        "# Calculate AUC score\n",
        "# Check if the best model has predict_proba method for AUC calculation\n",
        "if hasattr(best_model, 'predict_proba'):\n",
        "    y_pred_proba_test = best_model.predict_proba(X_test)[:, 1]\n",
        "    test_auc = roc_auc_score(y_test, y_pred_proba_test)\n",
        "else:\n",
        "    # If the best model doesn't have predict_proba (e.g., some SVM kernels without probability=True),\n",
        "    # train a new instance with probability=True for AUC calculation if it's SVM\n",
        "    if isinstance(best_model, SVC):\n",
        "        best_svm_model_prob = SVC(probability=True, C=best_model.C, gamma=best_model.gamma, kernel=best_model.kernel)\n",
        "        best_svm_model_prob.fit(X_train, y_train)\n",
        "        y_pred_proba_test = best_svm_model_prob.predict_proba(X_test)[:, 1]\n",
        "        test_auc = roc_auc_score(y_test, y_pred_proba_test)\n",
        "    else:\n",
        "        test_auc = \"N/A (predict_proba not available)\"\n",
        "\n",
        "\n",
        "# Print the evaluation metrics\n",
        "print(\"Evaluation Metrics for the Best Model (Neural Network) on the Test Set:\")\n",
        "print(f\"  Accuracy: {test_accuracy:.4f}\")\n",
        "print(f\"  Precision: {test_precision:.4f}\")\n",
        "print(f\"  Recall: {test_recall:.4f}\")\n",
        "print(f\"  F1-score: {test_f1:.4f}\")\n",
        "print(f\"  AUC: {test_auc:.4f}\" if isinstance(test_auc, float) else f\"  AUC: {test_auc}\")"
      ],
      "execution_count": 10,
      "outputs": [
        {
          "output_type": "stream",
          "name": "stdout",
          "text": [
            "Evaluation Metrics for the Best Model (Neural Network) on the Test Set:\n",
            "  Accuracy: 1.0000\n",
            "  Precision: 1.0000\n",
            "  Recall: 1.0000\n",
            "  F1-score: 1.0000\n",
            "  AUC: 1.0000\n"
          ]
        }
      ]
    },
    {
      "cell_type": "markdown",
      "metadata": {
        "id": "640032d4"
      },
      "source": [
        "## Interpret results\n",
        "\n",
        "\n",
        "Analyze the model's performance and identify key features contributing to predictions."
      ]
    },
    {
      "cell_type": "code",
      "metadata": {
        "colab": {
          "base_uri": "https://localhost:8080/",
          "height": 269
        },
        "id": "b19117e1",
        "outputId": "ba219b32-2841-439e-c56b-5c4d4093a1bc"
      },
      "source": [
        "import matplotlib.pyplot as plt\n",
        "import seaborn as sns\n",
        "from sklearn.metrics import confusion_matrix\n",
        "\n",
        "# Generate the confusion matrix\n",
        "cm = confusion_matrix(y_test, y_pred_test)\n",
        "\n",
        "# Visualize the confusion matrix\n",
        "plt.figure(figsize=(8, 6))\n",
        "sns.heatmap(cm, annot=True, fmt='d', cmap='Blues', xticklabels=['Benign', 'Malignant'], yticklabels=['Benign', 'Malignant'])\n",
        "plt.xlabel('Predicted')\n",
        "plt.ylabel('Actual')\n",
        "plt.title('Confusion Matrix for the Best Model')\n",
        "plt.show()"
      ],
      "execution_count": 11,
      "outputs": [
        {
          "output_type": "display_data",
          "data": {
            "text/plain": [
              "<Figure size 800x600 with 2 Axes>"
            ],
            "image/png": "[encoded data removed]"
          },
          "metadata": {}
        }
      ]
    },
    {
      "cell_type": "code",
      "metadata": {
        "colab": {
          "base_uri": "https://localhost:8080/",
          "height": 223
        },
        "id": "74ed378a",
        "outputId": "72be1f0e-c81f-4bdd-c56a-0872f06356f8"
      },
      "source": [
        "from sklearn.inspection import permutation_importance\n",
        "import numpy as np\n",
        "\n",
        "# Calculate permutation importance\n",
        "result = permutation_importance(best_model, X_test, y_test, n_repeats=10, random_state=42, n_jobs=-1)\n",
        "\n",
        "# Get feature importances and sort them\n",
        "sorted_idx = result.importances_mean.argsort()\n",
        "sorted_importances = result.importances_mean[sorted_idx]\n",
        "sorted_feature_names = np.array(df.drop('target', axis=1).columns)[sorted_idx]\n",
        "\n",
        "# Select the top 10 most important features\n",
        "top_10_importances = sorted_importances[-10:]\n",
        "top_10_feature_names = sorted_feature_names[-10:]\n",
        "\n",
        "# Create a bar plot for the top 10 features\n",
        "plt.figure(figsize=(10, 7))\n",
        "plt.barh(top_10_feature_names, top_10_importances)\n",
        "plt.xlabel(\"Permutation Importance\")\n",
        "plt.title(\"Top 10 Most Important Features (Permutation Importance)\")\n",
        "plt.tight_layout()\n",
        "plt.show()"
      ],
      "execution_count": 12,
      "outputs": [
        {
          "output_type": "display_data",
          "data": {
            "text/plain": [
              "<Figure size 1000x700 with 1 Axes>"
            ],
            "image/png": "[encoded data removed]"
          },
          "metadata": {}
        }
      ]
    },
    {
      "cell_type": "markdown",
      "metadata": {
        "id": "1061ab7c"
      },
      "source": [
        "## Summary:\n",
        "\n",
        "### Data Analysis Key Findings\n",
        "\n",
        "*   The breast cancer dataset, containing 569 entries and 31 features, was successfully loaded and confirmed to have no missing values.\n",
        "*   The data was preprocessed by separating features and the target variable and scaling the numerical features using `StandardScaler`.\n",
        "*   The scaled data was split into training (398 samples), validation (85 samples), and test (86 samples) sets.\n",
        "*   Logistic Regression, SVM, and Neural Network models were trained on the training data.\n",
        "*   Initial evaluation on the validation set showed high performance for all models:\n",
        "    *   Logistic Regression: Accuracy 0.9882, Recall 1.0000, AUC 0.9977\n",
        "    *   SVM: Accuracy 0.9529, AUC 0.9944\n",
        "    *   Neural Network: Accuracy 0.9647, AUC 0.9955\n",
        "*   Hyperparameter tuning using GridSearchCV with cross-validation was performed for each model based on the F1-score.\n",
        "*   The best F1-scores after tuning were approximately 0.9821 for Logistic Regression, 0.9802 for SVM, and 0.9861 for the Neural Network.\n",
        "*   The Neural Network model, having the highest best F1-score after tuning, was selected as the best model.\n",
        "*   Evaluation of the best Neural Network model on the test set resulted in perfect scores across all metrics: Accuracy 1.0000, Precision 1.0000, Recall 1.0000, F1-score 1.0000, and AUC 1.0000.\n",
        "*   A confusion matrix for the best model on the test set showed zero false positives and zero false negatives.\n",
        "*   Permutation importance analysis identified the top 10 features contributing most significantly to the model's predictions.\n",
        "\n",
        "### Insights or Next Steps\n",
        "\n",
        "*   The tuned Neural Network model demonstrates exceptional performance on this specific test set, achieving perfect classification. While promising, it's crucial to assess its generalization capability on unseen data or through more robust cross-validation techniques across the entire dataset.\n",
        "*   Further investigation into the top 10 most important features identified by permutation importance could provide valuable clinical insights into the key factors associated with breast cancer detection in this dataset.\n"
      ]
    }
  ]
}